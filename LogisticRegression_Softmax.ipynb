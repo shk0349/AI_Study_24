{
  "nbformat": 4,
  "nbformat_minor": 0,
  "metadata": {
    "colab": {
      "provenance": [],
      "authorship_tag": "ABX9TyO4lqT922GFhVSLD1kUL5l7",
      "include_colab_link": true
    },
    "kernelspec": {
      "name": "python3",
      "display_name": "Python 3"
    },
    "language_info": {
      "name": "python"
    }
  },
  "cells": [
    {
      "cell_type": "markdown",
      "metadata": {
        "id": "view-in-github",
        "colab_type": "text"
      },
      "source": [
        "<a href=\"https://colab.research.google.com/github/shk0349/AI_Study_24/blob/master/LogisticRegression_Softmax.ipynb\" target=\"_parent\"><img src=\"https://colab.research.google.com/assets/colab-badge.svg\" alt=\"Open In Colab\"/></a>"
      ]
    },
    {
      "cell_type": "markdown",
      "source": [
        "MBC 쇼핑몰에서 럭키백을 판매하기로 하였고, 럭키백에는 생선 7가지가 랜덤하게 들어있다.\n",
        "\n",
        "단, 럭키백에 확률이 표시되어야함.(들어있는 생선의 당첨확률)\n",
        "\n"
      ],
      "metadata": {
        "id": "AxGQUb7DqXaM"
      }
    },
    {
      "cell_type": "code",
      "execution_count": 63,
      "metadata": {
        "colab": {
          "base_uri": "https://localhost:8080/",
          "height": 206
        },
        "id": "WQa3J1_-qTEC",
        "outputId": "a5a314e7-b05e-45cf-a2a5-b72f0d7e0d26"
      },
      "outputs": [
        {
          "output_type": "execute_result",
          "data": {
            "text/plain": [
              "  Species  Weight  Length  Diagonal   Height   Width\n",
              "0   Bream   242.0    25.4      30.0  11.5200  4.0200\n",
              "1   Bream   290.0    26.3      31.2  12.4800  4.3056\n",
              "2   Bream   340.0    26.5      31.1  12.3778  4.6961\n",
              "3   Bream   363.0    29.0      33.5  12.7300  4.4555\n",
              "4   Bream   430.0    29.0      34.0  12.4440  5.1340"
            ],
            "text/html": [
              "\n",
              "  <div id=\"df-cbadba89-658a-4c61-8334-6db96bedf51d\" class=\"colab-df-container\">\n",
              "    <div>\n",
              "<style scoped>\n",
              "    .dataframe tbody tr th:only-of-type {\n",
              "        vertical-align: middle;\n",
              "    }\n",
              "\n",
              "    .dataframe tbody tr th {\n",
              "        vertical-align: top;\n",
              "    }\n",
              "\n",
              "    .dataframe thead th {\n",
              "        text-align: right;\n",
              "    }\n",
              "</style>\n",
              "<table border=\"1\" class=\"dataframe\">\n",
              "  <thead>\n",
              "    <tr style=\"text-align: right;\">\n",
              "      <th></th>\n",
              "      <th>Species</th>\n",
              "      <th>Weight</th>\n",
              "      <th>Length</th>\n",
              "      <th>Diagonal</th>\n",
              "      <th>Height</th>\n",
              "      <th>Width</th>\n",
              "    </tr>\n",
              "  </thead>\n",
              "  <tbody>\n",
              "    <tr>\n",
              "      <th>0</th>\n",
              "      <td>Bream</td>\n",
              "      <td>242.0</td>\n",
              "      <td>25.4</td>\n",
              "      <td>30.0</td>\n",
              "      <td>11.5200</td>\n",
              "      <td>4.0200</td>\n",
              "    </tr>\n",
              "    <tr>\n",
              "      <th>1</th>\n",
              "      <td>Bream</td>\n",
              "      <td>290.0</td>\n",
              "      <td>26.3</td>\n",
              "      <td>31.2</td>\n",
              "      <td>12.4800</td>\n",
              "      <td>4.3056</td>\n",
              "    </tr>\n",
              "    <tr>\n",
              "      <th>2</th>\n",
              "      <td>Bream</td>\n",
              "      <td>340.0</td>\n",
              "      <td>26.5</td>\n",
              "      <td>31.1</td>\n",
              "      <td>12.3778</td>\n",
              "      <td>4.6961</td>\n",
              "    </tr>\n",
              "    <tr>\n",
              "      <th>3</th>\n",
              "      <td>Bream</td>\n",
              "      <td>363.0</td>\n",
              "      <td>29.0</td>\n",
              "      <td>33.5</td>\n",
              "      <td>12.7300</td>\n",
              "      <td>4.4555</td>\n",
              "    </tr>\n",
              "    <tr>\n",
              "      <th>4</th>\n",
              "      <td>Bream</td>\n",
              "      <td>430.0</td>\n",
              "      <td>29.0</td>\n",
              "      <td>34.0</td>\n",
              "      <td>12.4440</td>\n",
              "      <td>5.1340</td>\n",
              "    </tr>\n",
              "  </tbody>\n",
              "</table>\n",
              "</div>\n",
              "    <div class=\"colab-df-buttons\">\n",
              "\n",
              "  <div class=\"colab-df-container\">\n",
              "    <button class=\"colab-df-convert\" onclick=\"convertToInteractive('df-cbadba89-658a-4c61-8334-6db96bedf51d')\"\n",
              "            title=\"Convert this dataframe to an interactive table.\"\n",
              "            style=\"display:none;\">\n",
              "\n",
              "  <svg xmlns=\"http://www.w3.org/2000/svg\" height=\"24px\" viewBox=\"0 -960 960 960\">\n",
              "    <path d=\"M120-120v-720h720v720H120Zm60-500h600v-160H180v160Zm220 220h160v-160H400v160Zm0 220h160v-160H400v160ZM180-400h160v-160H180v160Zm440 0h160v-160H620v160ZM180-180h160v-160H180v160Zm440 0h160v-160H620v160Z\"/>\n",
              "  </svg>\n",
              "    </button>\n",
              "\n",
              "  <style>\n",
              "    .colab-df-container {\n",
              "      display:flex;\n",
              "      gap: 12px;\n",
              "    }\n",
              "\n",
              "    .colab-df-convert {\n",
              "      background-color: #E8F0FE;\n",
              "      border: none;\n",
              "      border-radius: 50%;\n",
              "      cursor: pointer;\n",
              "      display: none;\n",
              "      fill: #1967D2;\n",
              "      height: 32px;\n",
              "      padding: 0 0 0 0;\n",
              "      width: 32px;\n",
              "    }\n",
              "\n",
              "    .colab-df-convert:hover {\n",
              "      background-color: #E2EBFA;\n",
              "      box-shadow: 0px 1px 2px rgba(60, 64, 67, 0.3), 0px 1px 3px 1px rgba(60, 64, 67, 0.15);\n",
              "      fill: #174EA6;\n",
              "    }\n",
              "\n",
              "    .colab-df-buttons div {\n",
              "      margin-bottom: 4px;\n",
              "    }\n",
              "\n",
              "    [theme=dark] .colab-df-convert {\n",
              "      background-color: #3B4455;\n",
              "      fill: #D2E3FC;\n",
              "    }\n",
              "\n",
              "    [theme=dark] .colab-df-convert:hover {\n",
              "      background-color: #434B5C;\n",
              "      box-shadow: 0px 1px 3px 1px rgba(0, 0, 0, 0.15);\n",
              "      filter: drop-shadow(0px 1px 2px rgba(0, 0, 0, 0.3));\n",
              "      fill: #FFFFFF;\n",
              "    }\n",
              "  </style>\n",
              "\n",
              "    <script>\n",
              "      const buttonEl =\n",
              "        document.querySelector('#df-cbadba89-658a-4c61-8334-6db96bedf51d button.colab-df-convert');\n",
              "      buttonEl.style.display =\n",
              "        google.colab.kernel.accessAllowed ? 'block' : 'none';\n",
              "\n",
              "      async function convertToInteractive(key) {\n",
              "        const element = document.querySelector('#df-cbadba89-658a-4c61-8334-6db96bedf51d');\n",
              "        const dataTable =\n",
              "          await google.colab.kernel.invokeFunction('convertToInteractive',\n",
              "                                                    [key], {});\n",
              "        if (!dataTable) return;\n",
              "\n",
              "        const docLinkHtml = 'Like what you see? Visit the ' +\n",
              "          '<a target=\"_blank\" href=https://colab.research.google.com/notebooks/data_table.ipynb>data table notebook</a>'\n",
              "          + ' to learn more about interactive tables.';\n",
              "        element.innerHTML = '';\n",
              "        dataTable['output_type'] = 'display_data';\n",
              "        await google.colab.output.renderOutput(dataTable, element);\n",
              "        const docLink = document.createElement('div');\n",
              "        docLink.innerHTML = docLinkHtml;\n",
              "        element.appendChild(docLink);\n",
              "      }\n",
              "    </script>\n",
              "  </div>\n",
              "\n",
              "\n",
              "<div id=\"df-96aaba7d-8b06-4b87-8a78-a0cd9fbd2463\">\n",
              "  <button class=\"colab-df-quickchart\" onclick=\"quickchart('df-96aaba7d-8b06-4b87-8a78-a0cd9fbd2463')\"\n",
              "            title=\"Suggest charts\"\n",
              "            style=\"display:none;\">\n",
              "\n",
              "<svg xmlns=\"http://www.w3.org/2000/svg\" height=\"24px\"viewBox=\"0 0 24 24\"\n",
              "     width=\"24px\">\n",
              "    <g>\n",
              "        <path d=\"M19 3H5c-1.1 0-2 .9-2 2v14c0 1.1.9 2 2 2h14c1.1 0 2-.9 2-2V5c0-1.1-.9-2-2-2zM9 17H7v-7h2v7zm4 0h-2V7h2v10zm4 0h-2v-4h2v4z\"/>\n",
              "    </g>\n",
              "</svg>\n",
              "  </button>\n",
              "\n",
              "<style>\n",
              "  .colab-df-quickchart {\n",
              "      --bg-color: #E8F0FE;\n",
              "      --fill-color: #1967D2;\n",
              "      --hover-bg-color: #E2EBFA;\n",
              "      --hover-fill-color: #174EA6;\n",
              "      --disabled-fill-color: #AAA;\n",
              "      --disabled-bg-color: #DDD;\n",
              "  }\n",
              "\n",
              "  [theme=dark] .colab-df-quickchart {\n",
              "      --bg-color: #3B4455;\n",
              "      --fill-color: #D2E3FC;\n",
              "      --hover-bg-color: #434B5C;\n",
              "      --hover-fill-color: #FFFFFF;\n",
              "      --disabled-bg-color: #3B4455;\n",
              "      --disabled-fill-color: #666;\n",
              "  }\n",
              "\n",
              "  .colab-df-quickchart {\n",
              "    background-color: var(--bg-color);\n",
              "    border: none;\n",
              "    border-radius: 50%;\n",
              "    cursor: pointer;\n",
              "    display: none;\n",
              "    fill: var(--fill-color);\n",
              "    height: 32px;\n",
              "    padding: 0;\n",
              "    width: 32px;\n",
              "  }\n",
              "\n",
              "  .colab-df-quickchart:hover {\n",
              "    background-color: var(--hover-bg-color);\n",
              "    box-shadow: 0 1px 2px rgba(60, 64, 67, 0.3), 0 1px 3px 1px rgba(60, 64, 67, 0.15);\n",
              "    fill: var(--button-hover-fill-color);\n",
              "  }\n",
              "\n",
              "  .colab-df-quickchart-complete:disabled,\n",
              "  .colab-df-quickchart-complete:disabled:hover {\n",
              "    background-color: var(--disabled-bg-color);\n",
              "    fill: var(--disabled-fill-color);\n",
              "    box-shadow: none;\n",
              "  }\n",
              "\n",
              "  .colab-df-spinner {\n",
              "    border: 2px solid var(--fill-color);\n",
              "    border-color: transparent;\n",
              "    border-bottom-color: var(--fill-color);\n",
              "    animation:\n",
              "      spin 1s steps(1) infinite;\n",
              "  }\n",
              "\n",
              "  @keyframes spin {\n",
              "    0% {\n",
              "      border-color: transparent;\n",
              "      border-bottom-color: var(--fill-color);\n",
              "      border-left-color: var(--fill-color);\n",
              "    }\n",
              "    20% {\n",
              "      border-color: transparent;\n",
              "      border-left-color: var(--fill-color);\n",
              "      border-top-color: var(--fill-color);\n",
              "    }\n",
              "    30% {\n",
              "      border-color: transparent;\n",
              "      border-left-color: var(--fill-color);\n",
              "      border-top-color: var(--fill-color);\n",
              "      border-right-color: var(--fill-color);\n",
              "    }\n",
              "    40% {\n",
              "      border-color: transparent;\n",
              "      border-right-color: var(--fill-color);\n",
              "      border-top-color: var(--fill-color);\n",
              "    }\n",
              "    60% {\n",
              "      border-color: transparent;\n",
              "      border-right-color: var(--fill-color);\n",
              "    }\n",
              "    80% {\n",
              "      border-color: transparent;\n",
              "      border-right-color: var(--fill-color);\n",
              "      border-bottom-color: var(--fill-color);\n",
              "    }\n",
              "    90% {\n",
              "      border-color: transparent;\n",
              "      border-bottom-color: var(--fill-color);\n",
              "    }\n",
              "  }\n",
              "</style>\n",
              "\n",
              "  <script>\n",
              "    async function quickchart(key) {\n",
              "      const quickchartButtonEl =\n",
              "        document.querySelector('#' + key + ' button');\n",
              "      quickchartButtonEl.disabled = true;  // To prevent multiple clicks.\n",
              "      quickchartButtonEl.classList.add('colab-df-spinner');\n",
              "      try {\n",
              "        const charts = await google.colab.kernel.invokeFunction(\n",
              "            'suggestCharts', [key], {});\n",
              "      } catch (error) {\n",
              "        console.error('Error during call to suggestCharts:', error);\n",
              "      }\n",
              "      quickchartButtonEl.classList.remove('colab-df-spinner');\n",
              "      quickchartButtonEl.classList.add('colab-df-quickchart-complete');\n",
              "    }\n",
              "    (() => {\n",
              "      let quickchartButtonEl =\n",
              "        document.querySelector('#df-96aaba7d-8b06-4b87-8a78-a0cd9fbd2463 button');\n",
              "      quickchartButtonEl.style.display =\n",
              "        google.colab.kernel.accessAllowed ? 'block' : 'none';\n",
              "    })();\n",
              "  </script>\n",
              "</div>\n",
              "\n",
              "    </div>\n",
              "  </div>\n"
            ],
            "application/vnd.google.colaboratory.intrinsic+json": {
              "type": "dataframe",
              "variable_name": "fish",
              "summary": "{\n  \"name\": \"fish\",\n  \"rows\": 159,\n  \"fields\": [\n    {\n      \"column\": \"Species\",\n      \"properties\": {\n        \"dtype\": \"category\",\n        \"num_unique_values\": 7,\n        \"samples\": [\n          \"Bream\",\n          \"Roach\",\n          \"Pike\"\n        ],\n        \"semantic_type\": \"\",\n        \"description\": \"\"\n      }\n    },\n    {\n      \"column\": \"Weight\",\n      \"properties\": {\n        \"dtype\": \"number\",\n        \"std\": 357.9783165508931,\n        \"min\": 0.0,\n        \"max\": 1650.0,\n        \"num_unique_values\": 101,\n        \"samples\": [\n          770.0,\n          51.5,\n          197.0\n        ],\n        \"semantic_type\": \"\",\n        \"description\": \"\"\n      }\n    },\n    {\n      \"column\": \"Length\",\n      \"properties\": {\n        \"dtype\": \"number\",\n        \"std\": 10.716328098884247,\n        \"min\": 8.4,\n        \"max\": 63.4,\n        \"num_unique_values\": 93,\n        \"samples\": [\n          14.7,\n          18.8,\n          19.6\n        ],\n        \"semantic_type\": \"\",\n        \"description\": \"\"\n      }\n    },\n    {\n      \"column\": \"Diagonal\",\n      \"properties\": {\n        \"dtype\": \"number\",\n        \"std\": 11.610245832690964,\n        \"min\": 8.8,\n        \"max\": 68.0,\n        \"num_unique_values\": 124,\n        \"samples\": [\n          39.2,\n          27.2,\n          23.1\n        ],\n        \"semantic_type\": \"\",\n        \"description\": \"\"\n      }\n    },\n    {\n      \"column\": \"Height\",\n      \"properties\": {\n        \"dtype\": \"number\",\n        \"std\": 4.286207619968867,\n        \"min\": 1.7284,\n        \"max\": 18.957,\n        \"num_unique_values\": 154,\n        \"samples\": [\n          15.438,\n          7.293,\n          2.8728\n        ],\n        \"semantic_type\": \"\",\n        \"description\": \"\"\n      }\n    },\n    {\n      \"column\": \"Width\",\n      \"properties\": {\n        \"dtype\": \"number\",\n        \"std\": 1.6858038699921671,\n        \"min\": 1.0476,\n        \"max\": 8.142,\n        \"num_unique_values\": 152,\n        \"samples\": [\n          3.1571,\n          1.3936,\n          3.6835\n        ],\n        \"semantic_type\": \"\",\n        \"description\": \"\"\n      }\n    }\n  ]\n}"
            }
          },
          "metadata": {},
          "execution_count": 63
        }
      ],
      "source": [
        "# 럭키백의 확률\n",
        "# 생선 7마리라고 가정\n",
        "# 생선의 크기(Length), 무게(Weight), 두께(Width), 높이(Height), 대각선의 길이(Diagonal) 등\n",
        "\n",
        "# K-최근접 알고리즘을 이용해보면 회귀??? 분류???\n",
        "# 확률을 알고 싶은 것이기 떄문에 회귀 사용\n",
        "\n",
        "# 샘플 10마리 중 농어 3마리이면 -> 3 / 10 = 0.3\n",
        "# 빙어 5마리이면 -> 5 / 10 = 0.5\n",
        "# 돔 2마리이면 -> 2 / 10 = 0.2\n",
        "\n",
        "# 사이킷런의 K-최근접 이웃 분리기도 이와 동일한 방식으로 확률 계산도 해줌\n",
        "# 샘플데이터 준비\n",
        "import pandas as pd\n",
        "fish = pd.read_csv('https://bit.ly/fish_csv_data')\n",
        "fish.head()    # 최상단 데이터 5개를 보여줌"
      ]
    },
    {
      "cell_type": "code",
      "source": [
        "print(pd.unique(fish['Species']))    # pandas의 .unique() 매서드를 사용하여 생선 종류만 출력\n",
        "# Bream : 도미 / Roach : 잉어 / Whitefish : 송어 / Parkki : 붕어 / Perch : 농어 / Pike : 가물치 / Smelt : 빙어\n",
        "# 총 7종류의 어종이 분포되어 있음"
      ],
      "metadata": {
        "colab": {
          "base_uri": "https://localhost:8080/"
        },
        "id": "ifjLrJR01p6v",
        "outputId": "2153942e-32d5-4895-f44d-592fc68ac47f"
      },
      "execution_count": 64,
      "outputs": [
        {
          "output_type": "stream",
          "name": "stdout",
          "text": [
            "['Bream' 'Roach' 'Whitefish' 'Parkki' 'Perch' 'Pike' 'Smelt']\n"
          ]
        }
      ]
    },
    {
      "cell_type": "code",
      "source": [
        "fish_input = fish[['Weight', 'Length', 'Diagonal', 'Height', 'Width']].to_numpy()    # 분석용 입력값 생성\n",
        "# 원하는 필드를 넣어 필터링\n",
        "print(fish_input[:5])"
      ],
      "metadata": {
        "colab": {
          "base_uri": "https://localhost:8080/"
        },
        "id": "IPkN6sTU3Mi9",
        "outputId": "4b153624-0ebf-43bf-b193-94a28a9d0e3f"
      },
      "execution_count": 65,
      "outputs": [
        {
          "output_type": "stream",
          "name": "stdout",
          "text": [
            "[[242.      25.4     30.      11.52     4.02  ]\n",
            " [290.      26.3     31.2     12.48     4.3056]\n",
            " [340.      26.5     31.1     12.3778   4.6961]\n",
            " [363.      29.      33.5     12.73     4.4555]\n",
            " [430.      29.      34.      12.444    5.134 ]]\n"
          ]
        }
      ]
    },
    {
      "cell_type": "code",
      "source": [
        "fish_target = fish['Species'].to_numpy()    # 정답 리스트 생성\n",
        "print(fish_target[:5])"
      ],
      "metadata": {
        "colab": {
          "base_uri": "https://localhost:8080/"
        },
        "id": "yrqZLOsC3Yge",
        "outputId": "f47f2f5d-08f5-4f83-f061-864531f0b3c5"
      },
      "execution_count": 66,
      "outputs": [
        {
          "output_type": "stream",
          "name": "stdout",
          "text": [
            "['Bream' 'Bream' 'Bream' 'Bream' 'Bream']\n"
          ]
        }
      ]
    },
    {
      "cell_type": "code",
      "source": [
        "# 훈련세트 생성\n",
        "from sklearn.model_selection import train_test_split\n",
        "train_input, test_input, train_target, test_target = train_test_split(fish_input, fish_target, random_state = 42)\n",
        "print(train_input.shape, test_input.shape)    # 훈련용은 119개의 샘플값과 5개의 특성, 테스트용은 40개의 샘플값과 5개의 특성을 갖음"
      ],
      "metadata": {
        "colab": {
          "base_uri": "https://localhost:8080/"
        },
        "id": "ntYHUHpn4Fvl",
        "outputId": "a3aad95a-c086-4268-f8e8-8e32a6341bd1"
      },
      "execution_count": 67,
      "outputs": [
        {
          "output_type": "stream",
          "name": "stdout",
          "text": [
            "(119, 5) (40, 5)\n"
          ]
        }
      ]
    },
    {
      "cell_type": "code",
      "source": [
        "from sklearn.preprocessing import StandardScaler\n",
        "ss = StandardScaler()    # sklearn을 이용한 전처리(스케일 조정 : 표준점수화)\n",
        "ss.fit(train_input)\n",
        "train_scaled = ss.transform(train_input)\n",
        "test_scaled = ss.transform(test_input)\n",
        "print(train_scaled[:5])\n",
        "print(test_scaled[:5])"
      ],
      "metadata": {
        "colab": {
          "base_uri": "https://localhost:8080/"
        },
        "id": "9Pr_tZqo5Hah",
        "outputId": "123cf738-2c2e-4a11-a47d-934957361466"
      },
      "execution_count": 68,
      "outputs": [
        {
          "output_type": "stream",
          "name": "stdout",
          "text": [
            "[[ 0.91965782  0.60943175  0.81041221  1.85194896  1.00075672]\n",
            " [ 0.30041219  1.54653445  1.45316551 -0.46981663  0.27291745]\n",
            " [-1.0858536  -1.68646987 -1.70848587 -1.70159849 -2.0044758 ]\n",
            " [-0.79734143 -0.60880176 -0.67486907 -0.82480589 -0.27631471]\n",
            " [-0.71289885 -0.73062511 -0.70092664 -0.0802298  -0.7033869 ]]\n",
            "[[-0.88741352 -0.91804565 -1.03098914 -0.90464451 -0.80762518]\n",
            " [-1.06924656 -1.50842035 -1.54345461 -1.58849582 -1.93803151]\n",
            " [-0.54401367  0.35641402  0.30663259 -0.8135697  -0.65388895]\n",
            " [-0.34698097 -0.23396068 -0.22320459 -0.11905019 -0.12233464]\n",
            " [-0.68475132 -0.51509149 -0.58801052 -0.8998784  -0.50124996]]\n"
          ]
        }
      ]
    },
    {
      "cell_type": "code",
      "source": [
        "# K-최근접 이웃 분류기의 확률 예측\n",
        "from sklearn.neighbors import KNeighborsClassifier\n",
        "\n",
        "kn = KNeighborsClassifier(n_neighbors = 3)    # 참고이웃은 3개로 설정\n",
        "kn.fit(train_scaled, train_target)\n",
        "\n",
        "print(kn.score(train_scaled, train_target))\n",
        "print(kn.score(test_scaled, test_target))"
      ],
      "metadata": {
        "colab": {
          "base_uri": "https://localhost:8080/"
        },
        "id": "EBgfiPtI52J1",
        "outputId": "3f65e94a-fd49-4a11-fe6a-1f080dbcfa87"
      },
      "execution_count": 69,
      "outputs": [
        {
          "output_type": "stream",
          "name": "stdout",
          "text": [
            "0.8907563025210085\n",
            "0.85\n"
          ]
        }
      ]
    },
    {
      "cell_type": "code",
      "source": [
        "# 전에는 0과 1을 찾는 이진분류였지만, 지금은 타겟에 7개의 어종을 넣은 상태임\n",
        "print(kn.classes_)    # 어종 7가지 출력 / 2개 이상 클래스가 포함된 문제를 다중분류라고 함.."
      ],
      "metadata": {
        "colab": {
          "base_uri": "https://localhost:8080/"
        },
        "id": "vMRMwB4L7IkI",
        "outputId": "0e474cde-3810-417d-907b-1729b872407a"
      },
      "execution_count": 70,
      "outputs": [
        {
          "output_type": "stream",
          "name": "stdout",
          "text": [
            "['Bream' 'Parkki' 'Perch' 'Pike' 'Roach' 'Smelt' 'Whitefish']\n"
          ]
        }
      ]
    },
    {
      "cell_type": "code",
      "source": [
        "print(kn.predict(test_scaled[:5]))    # KNeighborsClassifier의 .predict() 메서드를 하여 Test_target 값을 확인"
      ],
      "metadata": {
        "colab": {
          "base_uri": "https://localhost:8080/"
        },
        "id": "uy-e03Bb7seb",
        "outputId": "c8dcc7a5-4c6b-47d4-baf6-c469bce8c5e0"
      },
      "execution_count": 71,
      "outputs": [
        {
          "output_type": "stream",
          "name": "stdout",
          "text": [
            "['Perch' 'Smelt' 'Pike' 'Perch' 'Perch']\n"
          ]
        }
      ]
    },
    {
      "cell_type": "code",
      "source": [
        "print(test_scaled[:5])"
      ],
      "metadata": {
        "colab": {
          "base_uri": "https://localhost:8080/"
        },
        "id": "tK-YlI4U72JF",
        "outputId": "aae1e4bd-9d9a-4036-9f85-223b7c38427d"
      },
      "execution_count": 72,
      "outputs": [
        {
          "output_type": "stream",
          "name": "stdout",
          "text": [
            "[[-0.88741352 -0.91804565 -1.03098914 -0.90464451 -0.80762518]\n",
            " [-1.06924656 -1.50842035 -1.54345461 -1.58849582 -1.93803151]\n",
            " [-0.54401367  0.35641402  0.30663259 -0.8135697  -0.65388895]\n",
            " [-0.34698097 -0.23396068 -0.22320459 -0.11905019 -0.12233464]\n",
            " [-0.68475132 -0.51509149 -0.58801052 -0.8998784  -0.50124996]]\n"
          ]
        }
      ]
    },
    {
      "cell_type": "code",
      "source": [
        "import numpy as np\n",
        "\n",
        "proba = kn.predict_proba(test_scaled[:5])    # 사이킷런이 번거로운 연산을 수행해줌으로써 결과가 쉽게 나옴\n",
        "print(np.round(proba, decimals = 4))    # 소숫점 4자리까지 표시(5자리에서 반올림)\n",
        "# Bream / Parkki / Perch / Pike / Roach / Smelt / Whitefish 순으로 확률 표시\n",
        "# 결과적으로 ['Perch' 'Smelt' 'Pike' 'Perch' 'Perch']로 판명됨"
      ],
      "metadata": {
        "colab": {
          "base_uri": "https://localhost:8080/"
        },
        "id": "_JvvIVgB8MJE",
        "outputId": "3d638720-e46e-4b2c-973d-e071138f651b"
      },
      "execution_count": 73,
      "outputs": [
        {
          "output_type": "stream",
          "name": "stdout",
          "text": [
            "[[0.     0.     1.     0.     0.     0.     0.    ]\n",
            " [0.     0.     0.     0.     0.     1.     0.    ]\n",
            " [0.     0.     0.     1.     0.     0.     0.    ]\n",
            " [0.     0.     0.6667 0.     0.3333 0.     0.    ]\n",
            " [0.     0.     0.6667 0.     0.3333 0.     0.    ]]\n"
          ]
        }
      ]
    },
    {
      "cell_type": "code",
      "source": [
        "# 이 모델이 계산한 확률이 가장 가까운 이웃의 비율이 맞는지 확인 절차가 필요함\n",
        "distances, indexes = kn.kneighbors(test_scaled[3:4])    # 4번째 값을 자세히 보면 됨\n",
        "print(train_target[indexes])\n",
        "# 출력 결과의 확률값\n",
        "# [Bream  Parkki Perch  Pike   Roach  Smelt  Whitefish]\n",
        "# [0.     0.     0.6667 0.     0.3333 0.     0.    ]\n",
        "# 이유 : n_neighbors = 3으로 설정했기 때문에 7개를 확률로 제공되지 못함"
      ],
      "metadata": {
        "colab": {
          "base_uri": "https://localhost:8080/"
        },
        "id": "BAiCDri4AfOj",
        "outputId": "be5e72bc-48e8-4d6d-c232-a28557c0694f"
      },
      "execution_count": 74,
      "outputs": [
        {
          "output_type": "stream",
          "name": "stdout",
          "text": [
            "[['Roach' 'Perch' 'Perch']]\n"
          ]
        }
      ]
    },
    {
      "cell_type": "code",
      "source": [
        "# 로지스틱 회귀(LogisticRegression)로 알고리즘 변경\n",
        "# 로지스틱 회귀(LogisticRegression)는 sklearn에서 제공하며, 이름이 회귀이지만 분류 모델임\n",
        "# 선형회귀와 동일하게 선형방정식을 학습함.\n",
        "# 적용 공식 / z = (a * Weight) + (b * Length) + (c + Diagonal) + (d * Height) + (e * Width) + f\n",
        "# a, b, c, d, e, f는 각 항목에 대한 가중치(중요도, 계수)임\n",
        "# z는 어떤 값도 가능하나, 확률이 되려면 0 ~ 1 사이 값이어야함.\n",
        "# z가 아주 큰 음수일때 0, 아주 큰 양수일 때 1이 되도록 바꾸는 방법에는 시그모이드 함수, 로지스틱 함수가 있음"
      ],
      "metadata": {
        "id": "BkaB5R5YBzVe"
      },
      "execution_count": 75,
      "outputs": []
    },
    {
      "cell_type": "code",
      "source": [
        "import numpy as np\n",
        "import matplotlib.pyplot as plt\n",
        "\n",
        "# 시그모이드 함수용 : z가 무한하게 큰 음수일 경우 0에 가까워짐, z가 무한하게 큰 양수일 경우 1이 가까워짐\n",
        "z = np.arange(-5, 5, 0.1)    # -5 ~ 5까지 0.1 간격으로 배열 생성\n",
        "phi = 1 / (1 + np.exp(-z))    # np.exp() 함수로 시그모이드 적용\n",
        "\n",
        "plt.plot(z, phi)\n",
        "plt.xlabel('Z')\n",
        "plt.ylabel('Phi')\n",
        "plt.show()"
      ],
      "metadata": {
        "colab": {
          "base_uri": "https://localhost:8080/",
          "height": 449
        },
        "id": "yDjVOGvTEFhA",
        "outputId": "5e280924-159d-4b53-8907-6a2edd1bc7aa"
      },
      "execution_count": 76,
      "outputs": [
        {
          "output_type": "display_data",
          "data": {
            "text/plain": [
              "<Figure size 640x480 with 1 Axes>"
            ],
            "image/png": "[encoded data removed]"
          },
          "metadata": {}
        }
      ]
    },
    {
      "cell_type": "code",
      "source": [
        "# 선형방적식의 출력 z의 음수를 사용하여 자연상수 e를 거듭제곱하고 1을 더한 값의 역수를 취함\n",
        "# 이렇게 하면 0 ~ 1사이 값을 확률(0 ~ 100%)로 해석가능\n",
        "\n",
        "# 훈련 전 2진분류부터 학습\n",
        "# 2진분류인 경우 시그모이드 함수 출력이 0.5보다 크면 양성, 0.5보다 작으면 음성으로 판단함\n",
        "# 단, 딱 0.5가 나오면 사이킷런은 음성으로 판단함(0.5의 경우 라이브러리마다 판단 기준이 서로 판이함)"
      ],
      "metadata": {
        "id": "k37qEeLDFHQf"
      },
      "execution_count": 77,
      "outputs": []
    },
    {
      "cell_type": "code",
      "source": [
        "# 로지스틱 회귀로 2진분류 수행 테스트\n",
        "# numpy 배열은 True, False 값을 전달하여 행을 선택할 수 있음(Boolean Indexing / 불리언 인덱싱)\n",
        "char_arr = np.array(['A', 'B', 'C', 'D', 'E'])\n",
        "print(char_arr[[True, False, True, False, False]])    # Boolean Indexing / True값만 출력됨"
      ],
      "metadata": {
        "colab": {
          "base_uri": "https://localhost:8080/"
        },
        "id": "d7SgvEY7GLzf",
        "outputId": "3b31c151-a157-4980-cf48-1f949b07d933"
      },
      "execution_count": 78,
      "outputs": [
        {
          "output_type": "stream",
          "name": "stdout",
          "text": [
            "['A' 'C']\n"
          ]
        }
      ]
    },
    {
      "cell_type": "code",
      "source": [
        "# 위와 같은 방식으로 훈련 세트에서 도미(Bream)와 빙어(Smelt)의 행만 골라내기\n",
        "bream_smelt_indexes = (train_target == 'Bream') | (train_target == 'Smelt')    # 도미(Bream) or 빙어(Smelt)인 경우만 골라냄\n",
        "\n",
        "# bream_smelt_indexes에는 도미 또는 빙어일 경우 True이고 나머지는 False가 들어있음\n",
        "# 해당 배열을 이용하여 train_scaled, train_target 배열에 인덱싱을 적용하면 손쉽게 도미와 빙어 데이터만 골라낼 수 있음\n",
        "train_bream_smelt = train_scaled[bream_smelt_indexes]\n",
        "target_bream_smelt = train_target[bream_smelt_indexes]"
      ],
      "metadata": {
        "id": "85SCfNJGG6hC"
      },
      "execution_count": 79,
      "outputs": []
    },
    {
      "cell_type": "code",
      "source": [
        "# 사이킷런 선형모델의 로지스틱 회귀 클래스 사용\n",
        "from sklearn.linear_model import LogisticRegression\n",
        "lr = LogisticRegression()\n",
        "lr.fit(train_bream_smelt, target_bream_smelt)    # 2진분류로 나옴"
      ],
      "metadata": {
        "colab": {
          "base_uri": "https://localhost:8080/",
          "height": 80
        },
        "id": "aytQPIgBKsiH",
        "outputId": "5dca5862-6bdf-471c-c4ea-4b80028358de"
      },
      "execution_count": 80,
      "outputs": [
        {
          "output_type": "execute_result",
          "data": {
            "text/plain": [
              "LogisticRegression()"
            ],
            "text/html": [
              "<style>#sk-container-id-2 {\n",
              "  /* Definition of color scheme common for light and dark mode */\n",
              "  --sklearn-color-text: #000;\n",
              "  --sklearn-color-text-muted: #666;\n",
              "  --sklearn-color-line: gray;\n",
              "  /* Definition of color scheme for unfitted estimators */\n",
              "  --sklearn-color-unfitted-level-0: #fff5e6;\n",
              "  --sklearn-color-unfitted-level-1: #f6e4d2;\n",
              "  --sklearn-color-unfitted-level-2: #ffe0b3;\n",
              "  --sklearn-color-unfitted-level-3: chocolate;\n",
              "  /* Definition of color scheme for fitted estimators */\n",
              "  --sklearn-color-fitted-level-0: #f0f8ff;\n",
              "  --sklearn-color-fitted-level-1: #d4ebff;\n",
              "  --sklearn-color-fitted-level-2: #b3dbfd;\n",
              "  --sklearn-color-fitted-level-3: cornflowerblue;\n",
              "\n",
              "  /* Specific color for light theme */\n",
              "  --sklearn-color-text-on-default-background: var(--sg-text-color, var(--theme-code-foreground, var(--jp-content-font-color1, black)));\n",
              "  --sklearn-color-background: var(--sg-background-color, var(--theme-background, var(--jp-layout-color0, white)));\n",
              "  --sklearn-color-border-box: var(--sg-text-color, var(--theme-code-foreground, var(--jp-content-font-color1, black)));\n",
              "  --sklearn-color-icon: #696969;\n",
              "\n",
              "  @media (prefers-color-scheme: dark) {\n",
              "    /* Redefinition of color scheme for dark theme */\n",
              "    --sklearn-color-text-on-default-background: var(--sg-text-color, var(--theme-code-foreground, var(--jp-content-font-color1, white)));\n",
              "    --sklearn-color-background: var(--sg-background-color, var(--theme-background, var(--jp-layout-color0, #111)));\n",
              "    --sklearn-color-border-box: var(--sg-text-color, var(--theme-code-foreground, var(--jp-content-font-color1, white)));\n",
              "    --sklearn-color-icon: #878787;\n",
              "  }\n",
              "}\n",
              "\n",
              "#sk-container-id-2 {\n",
              "  color: var(--sklearn-color-text);\n",
              "}\n",
              "\n",
              "#sk-container-id-2 pre {\n",
              "  padding: 0;\n",
              "}\n",
              "\n",
              "#sk-container-id-2 input.sk-hidden--visually {\n",
              "  border: 0;\n",
              "  clip: rect(1px 1px 1px 1px);\n",
              "  clip: rect(1px, 1px, 1px, 1px);\n",
              "  height: 1px;\n",
              "  margin: -1px;\n",
              "  overflow: hidden;\n",
              "  padding: 0;\n",
              "  position: absolute;\n",
              "  width: 1px;\n",
              "}\n",
              "\n",
              "#sk-container-id-2 div.sk-dashed-wrapped {\n",
              "  border: 1px dashed var(--sklearn-color-line);\n",
              "  margin: 0 0.4em 0.5em 0.4em;\n",
              "  box-sizing: border-box;\n",
              "  padding-bottom: 0.4em;\n",
              "  background-color: var(--sklearn-color-background);\n",
              "}\n",
              "\n",
              "#sk-container-id-2 div.sk-container {\n",
              "  /* jupyter's `normalize.less` sets `[hidden] { display: none; }`\n",
              "     but bootstrap.min.css set `[hidden] { display: none !important; }`\n",
              "     so we also need the `!important` here to be able to override the\n",
              "     default hidden behavior on the sphinx rendered scikit-learn.org.\n",
              "     See: https://github.com/scikit-learn/scikit-learn/issues/21755 */\n",
              "  display: inline-block !important;\n",
              "  position: relative;\n",
              "}\n",
              "\n",
              "#sk-container-id-2 div.sk-text-repr-fallback {\n",
              "  display: none;\n",
              "}\n",
              "\n",
              "div.sk-parallel-item,\n",
              "div.sk-serial,\n",
              "div.sk-item {\n",
              "  /* draw centered vertical line to link estimators */\n",
              "  background-image: linear-gradient(var(--sklearn-color-text-on-default-background), var(--sklearn-color-text-on-default-background));\n",
              "  background-size: 2px 100%;\n",
              "  background-repeat: no-repeat;\n",
              "  background-position: center center;\n",
              "}\n",
              "\n",
              "/* Parallel-specific style estimator block */\n",
              "\n",
              "#sk-container-id-2 div.sk-parallel-item::after {\n",
              "  content: \"\";\n",
              "  width: 100%;\n",
              "  border-bottom: 2px solid var(--sklearn-color-text-on-default-background);\n",
              "  flex-grow: 1;\n",
              "}\n",
              "\n",
              "#sk-container-id-2 div.sk-parallel {\n",
              "  display: flex;\n",
              "  align-items: stretch;\n",
              "  justify-content: center;\n",
              "  background-color: var(--sklearn-color-background);\n",
              "  position: relative;\n",
              "}\n",
              "\n",
              "#sk-container-id-2 div.sk-parallel-item {\n",
              "  display: flex;\n",
              "  flex-direction: column;\n",
              "}\n",
              "\n",
              "#sk-container-id-2 div.sk-parallel-item:first-child::after {\n",
              "  align-self: flex-end;\n",
              "  width: 50%;\n",
              "}\n",
              "\n",
              "#sk-container-id-2 div.sk-parallel-item:last-child::after {\n",
              "  align-self: flex-start;\n",
              "  width: 50%;\n",
              "}\n",
              "\n",
              "#sk-container-id-2 div.sk-parallel-item:only-child::after {\n",
              "  width: 0;\n",
              "}\n",
              "\n",
              "/* Serial-specific style estimator block */\n",
              "\n",
              "#sk-container-id-2 div.sk-serial {\n",
              "  display: flex;\n",
              "  flex-direction: column;\n",
              "  align-items: center;\n",
              "  background-color: var(--sklearn-color-background);\n",
              "  padding-right: 1em;\n",
              "  padding-left: 1em;\n",
              "}\n",
              "\n",
              "\n",
              "/* Toggleable style: style used for estimator/Pipeline/ColumnTransformer box that is\n",
              "clickable and can be expanded/collapsed.\n",
              "- Pipeline and ColumnTransformer use this feature and define the default style\n",
              "- Estimators will overwrite some part of the style using the `sk-estimator` class\n",
              "*/\n",
              "\n",
              "/* Pipeline and ColumnTransformer style (default) */\n",
              "\n",
              "#sk-container-id-2 div.sk-toggleable {\n",
              "  /* Default theme specific background. It is overwritten whether we have a\n",
              "  specific estimator or a Pipeline/ColumnTransformer */\n",
              "  background-color: var(--sklearn-color-background);\n",
              "}\n",
              "\n",
              "/* Toggleable label */\n",
              "#sk-container-id-2 label.sk-toggleable__label {\n",
              "  cursor: pointer;\n",
              "  display: flex;\n",
              "  width: 100%;\n",
              "  margin-bottom: 0;\n",
              "  padding: 0.5em;\n",
              "  box-sizing: border-box;\n",
              "  text-align: center;\n",
              "  align-items: start;\n",
              "  justify-content: space-between;\n",
              "  gap: 0.5em;\n",
              "}\n",
              "\n",
              "#sk-container-id-2 label.sk-toggleable__label .caption {\n",
              "  font-size: 0.6rem;\n",
              "  font-weight: lighter;\n",
              "  color: var(--sklearn-color-text-muted);\n",
              "}\n",
              "\n",
              "#sk-container-id-2 label.sk-toggleable__label-arrow:before {\n",
              "  /* Arrow on the left of the label */\n",
              "  content: \"▸\";\n",
              "  float: left;\n",
              "  margin-right: 0.25em;\n",
              "  color: var(--sklearn-color-icon);\n",
              "}\n",
              "\n",
              "#sk-container-id-2 label.sk-toggleable__label-arrow:hover:before {\n",
              "  color: var(--sklearn-color-text);\n",
              "}\n",
              "\n",
              "/* Toggleable content - dropdown */\n",
              "\n",
              "#sk-container-id-2 div.sk-toggleable__content {\n",
              "  max-height: 0;\n",
              "  max-width: 0;\n",
              "  overflow: hidden;\n",
              "  text-align: left;\n",
              "  /* unfitted */\n",
              "  background-color: var(--sklearn-color-unfitted-level-0);\n",
              "}\n",
              "\n",
              "#sk-container-id-2 div.sk-toggleable__content.fitted {\n",
              "  /* fitted */\n",
              "  background-color: var(--sklearn-color-fitted-level-0);\n",
              "}\n",
              "\n",
              "#sk-container-id-2 div.sk-toggleable__content pre {\n",
              "  margin: 0.2em;\n",
              "  border-radius: 0.25em;\n",
              "  color: var(--sklearn-color-text);\n",
              "  /* unfitted */\n",
              "  background-color: var(--sklearn-color-unfitted-level-0);\n",
              "}\n",
              "\n",
              "#sk-container-id-2 div.sk-toggleable__content.fitted pre {\n",
              "  /* unfitted */\n",
              "  background-color: var(--sklearn-color-fitted-level-0);\n",
              "}\n",
              "\n",
              "#sk-container-id-2 input.sk-toggleable__control:checked~div.sk-toggleable__content {\n",
              "  /* Expand drop-down */\n",
              "  max-height: 200px;\n",
              "  max-width: 100%;\n",
              "  overflow: auto;\n",
              "}\n",
              "\n",
              "#sk-container-id-2 input.sk-toggleable__control:checked~label.sk-toggleable__label-arrow:before {\n",
              "  content: \"▾\";\n",
              "}\n",
              "\n",
              "/* Pipeline/ColumnTransformer-specific style */\n",
              "\n",
              "#sk-container-id-2 div.sk-label input.sk-toggleable__control:checked~label.sk-toggleable__label {\n",
              "  color: var(--sklearn-color-text);\n",
              "  background-color: var(--sklearn-color-unfitted-level-2);\n",
              "}\n",
              "\n",
              "#sk-container-id-2 div.sk-label.fitted input.sk-toggleable__control:checked~label.sk-toggleable__label {\n",
              "  background-color: var(--sklearn-color-fitted-level-2);\n",
              "}\n",
              "\n",
              "/* Estimator-specific style */\n",
              "\n",
              "/* Colorize estimator box */\n",
              "#sk-container-id-2 div.sk-estimator input.sk-toggleable__control:checked~label.sk-toggleable__label {\n",
              "  /* unfitted */\n",
              "  background-color: var(--sklearn-color-unfitted-level-2);\n",
              "}\n",
              "\n",
              "#sk-container-id-2 div.sk-estimator.fitted input.sk-toggleable__control:checked~label.sk-toggleable__label {\n",
              "  /* fitted */\n",
              "  background-color: var(--sklearn-color-fitted-level-2);\n",
              "}\n",
              "\n",
              "#sk-container-id-2 div.sk-label label.sk-toggleable__label,\n",
              "#sk-container-id-2 div.sk-label label {\n",
              "  /* The background is the default theme color */\n",
              "  color: var(--sklearn-color-text-on-default-background);\n",
              "}\n",
              "\n",
              "/* On hover, darken the color of the background */\n",
              "#sk-container-id-2 div.sk-label:hover label.sk-toggleable__label {\n",
              "  color: var(--sklearn-color-text);\n",
              "  background-color: var(--sklearn-color-unfitted-level-2);\n",
              "}\n",
              "\n",
              "/* Label box, darken color on hover, fitted */\n",
              "#sk-container-id-2 div.sk-label.fitted:hover label.sk-toggleable__label.fitted {\n",
              "  color: var(--sklearn-color-text);\n",
              "  background-color: var(--sklearn-color-fitted-level-2);\n",
              "}\n",
              "\n",
              "/* Estimator label */\n",
              "\n",
              "#sk-container-id-2 div.sk-label label {\n",
              "  font-family: monospace;\n",
              "  font-weight: bold;\n",
              "  display: inline-block;\n",
              "  line-height: 1.2em;\n",
              "}\n",
              "\n",
              "#sk-container-id-2 div.sk-label-container {\n",
              "  text-align: center;\n",
              "}\n",
              "\n",
              "/* Estimator-specific */\n",
              "#sk-container-id-2 div.sk-estimator {\n",
              "  font-family: monospace;\n",
              "  border: 1px dotted var(--sklearn-color-border-box);\n",
              "  border-radius: 0.25em;\n",
              "  box-sizing: border-box;\n",
              "  margin-bottom: 0.5em;\n",
              "  /* unfitted */\n",
              "  background-color: var(--sklearn-color-unfitted-level-0);\n",
              "}\n",
              "\n",
              "#sk-container-id-2 div.sk-estimator.fitted {\n",
              "  /* fitted */\n",
              "  background-color: var(--sklearn-color-fitted-level-0);\n",
              "}\n",
              "\n",
              "/* on hover */\n",
              "#sk-container-id-2 div.sk-estimator:hover {\n",
              "  /* unfitted */\n",
              "  background-color: var(--sklearn-color-unfitted-level-2);\n",
              "}\n",
              "\n",
              "#sk-container-id-2 div.sk-estimator.fitted:hover {\n",
              "  /* fitted */\n",
              "  background-color: var(--sklearn-color-fitted-level-2);\n",
              "}\n",
              "\n",
              "/* Specification for estimator info (e.g. \"i\" and \"?\") */\n",
              "\n",
              "/* Common style for \"i\" and \"?\" */\n",
              "\n",
              ".sk-estimator-doc-link,\n",
              "a:link.sk-estimator-doc-link,\n",
              "a:visited.sk-estimator-doc-link {\n",
              "  float: right;\n",
              "  font-size: smaller;\n",
              "  line-height: 1em;\n",
              "  font-family: monospace;\n",
              "  background-color: var(--sklearn-color-background);\n",
              "  border-radius: 1em;\n",
              "  height: 1em;\n",
              "  width: 1em;\n",
              "  text-decoration: none !important;\n",
              "  margin-left: 0.5em;\n",
              "  text-align: center;\n",
              "  /* unfitted */\n",
              "  border: var(--sklearn-color-unfitted-level-1) 1pt solid;\n",
              "  color: var(--sklearn-color-unfitted-level-1);\n",
              "}\n",
              "\n",
              ".sk-estimator-doc-link.fitted,\n",
              "a:link.sk-estimator-doc-link.fitted,\n",
              "a:visited.sk-estimator-doc-link.fitted {\n",
              "  /* fitted */\n",
              "  border: var(--sklearn-color-fitted-level-1) 1pt solid;\n",
              "  color: var(--sklearn-color-fitted-level-1);\n",
              "}\n",
              "\n",
              "/* On hover */\n",
              "div.sk-estimator:hover .sk-estimator-doc-link:hover,\n",
              ".sk-estimator-doc-link:hover,\n",
              "div.sk-label-container:hover .sk-estimator-doc-link:hover,\n",
              ".sk-estimator-doc-link:hover {\n",
              "  /* unfitted */\n",
              "  background-color: var(--sklearn-color-unfitted-level-3);\n",
              "  color: var(--sklearn-color-background);\n",
              "  text-decoration: none;\n",
              "}\n",
              "\n",
              "div.sk-estimator.fitted:hover .sk-estimator-doc-link.fitted:hover,\n",
              ".sk-estimator-doc-link.fitted:hover,\n",
              "div.sk-label-container:hover .sk-estimator-doc-link.fitted:hover,\n",
              ".sk-estimator-doc-link.fitted:hover {\n",
              "  /* fitted */\n",
              "  background-color: var(--sklearn-color-fitted-level-3);\n",
              "  color: var(--sklearn-color-background);\n",
              "  text-decoration: none;\n",
              "}\n",
              "\n",
              "/* Span, style for the box shown on hovering the info icon */\n",
              ".sk-estimator-doc-link span {\n",
              "  display: none;\n",
              "  z-index: 9999;\n",
              "  position: relative;\n",
              "  font-weight: normal;\n",
              "  right: .2ex;\n",
              "  padding: .5ex;\n",
              "  margin: .5ex;\n",
              "  width: min-content;\n",
              "  min-width: 20ex;\n",
              "  max-width: 50ex;\n",
              "  color: var(--sklearn-color-text);\n",
              "  box-shadow: 2pt 2pt 4pt #999;\n",
              "  /* unfitted */\n",
              "  background: var(--sklearn-color-unfitted-level-0);\n",
              "  border: .5pt solid var(--sklearn-color-unfitted-level-3);\n",
              "}\n",
              "\n",
              ".sk-estimator-doc-link.fitted span {\n",
              "  /* fitted */\n",
              "  background: var(--sklearn-color-fitted-level-0);\n",
              "  border: var(--sklearn-color-fitted-level-3);\n",
              "}\n",
              "\n",
              ".sk-estimator-doc-link:hover span {\n",
              "  display: block;\n",
              "}\n",
              "\n",
              "/* \"?\"-specific style due to the `<a>` HTML tag */\n",
              "\n",
              "#sk-container-id-2 a.estimator_doc_link {\n",
              "  float: right;\n",
              "  font-size: 1rem;\n",
              "  line-height: 1em;\n",
              "  font-family: monospace;\n",
              "  background-color: var(--sklearn-color-background);\n",
              "  border-radius: 1rem;\n",
              "  height: 1rem;\n",
              "  width: 1rem;\n",
              "  text-decoration: none;\n",
              "  /* unfitted */\n",
              "  color: var(--sklearn-color-unfitted-level-1);\n",
              "  border: var(--sklearn-color-unfitted-level-1) 1pt solid;\n",
              "}\n",
              "\n",
              "#sk-container-id-2 a.estimator_doc_link.fitted {\n",
              "  /* fitted */\n",
              "  border: var(--sklearn-color-fitted-level-1) 1pt solid;\n",
              "  color: var(--sklearn-color-fitted-level-1);\n",
              "}\n",
              "\n",
              "/* On hover */\n",
              "#sk-container-id-2 a.estimator_doc_link:hover {\n",
              "  /* unfitted */\n",
              "  background-color: var(--sklearn-color-unfitted-level-3);\n",
              "  color: var(--sklearn-color-background);\n",
              "  text-decoration: none;\n",
              "}\n",
              "\n",
              "#sk-container-id-2 a.estimator_doc_link.fitted:hover {\n",
              "  /* fitted */\n",
              "  background-color: var(--sklearn-color-fitted-level-3);\n",
              "}\n",
              "</style><div id=\"sk-container-id-2\" class=\"sk-top-container\"><div class=\"sk-text-repr-fallback\"><pre>LogisticRegression()</pre><b>In a Jupyter environment, please rerun this cell to show the HTML representation or trust the notebook. <br />On GitHub, the HTML representation is unable to render, please try loading this page with nbviewer.org.</b></div><div class=\"sk-container\" hidden><div class=\"sk-item\"><div class=\"sk-estimator fitted sk-toggleable\"><input class=\"sk-toggleable__control sk-hidden--visually\" id=\"sk-estimator-id-2\" type=\"checkbox\" checked><label for=\"sk-estimator-id-2\" class=\"sk-toggleable__label fitted sk-toggleable__label-arrow\"><div><div>LogisticRegression</div></div><div><a class=\"sk-estimator-doc-link fitted\" rel=\"noreferrer\" target=\"_blank\" href=\"https://scikit-learn.org/1.6/modules/generated/sklearn.linear_model.LogisticRegression.html\">?<span>Documentation for LogisticRegression</span></a><span class=\"sk-estimator-doc-link fitted\">i<span>Fitted</span></span></div></label><div class=\"sk-toggleable__content fitted\"><pre>LogisticRegression()</pre></div> </div></div></div></div>"
            ]
          },
          "metadata": {},
          "execution_count": 80
        }
      ]
    },
    {
      "cell_type": "code",
      "source": [
        "# train_bream_smelt 첫 5개의 값으로 결론 확인\n",
        "print(lr.predict(train_bream_smelt[:5]))    # 판독결과 : 도미 4마리, 빙어 1마리"
      ],
      "metadata": {
        "colab": {
          "base_uri": "https://localhost:8080/"
        },
        "id": "HKckaULILV3t",
        "outputId": "7b8fc5a8-3de3-468a-b9f5-b92ff6e4d94c"
      },
      "execution_count": 81,
      "outputs": [
        {
          "output_type": "stream",
          "name": "stdout",
          "text": [
            "['Bream' 'Smelt' 'Bream' 'Bream' 'Bream']\n"
          ]
        }
      ]
    },
    {
      "cell_type": "code",
      "source": [
        "print(lr.predict_proba(train_bream_smelt[:5]))    # 확률 확인"
      ],
      "metadata": {
        "colab": {
          "base_uri": "https://localhost:8080/"
        },
        "id": "CGEG3Ql-OC9X",
        "outputId": "ae141624-32db-416c-a2b5-95f28f36c01a"
      },
      "execution_count": 82,
      "outputs": [
        {
          "output_type": "stream",
          "name": "stdout",
          "text": [
            "[[0.99760007 0.00239993]\n",
            " [0.02737325 0.97262675]\n",
            " [0.99486386 0.00513614]\n",
            " [0.98585047 0.01414953]\n",
            " [0.99767419 0.00232581]]\n"
          ]
        }
      ]
    },
    {
      "cell_type": "code",
      "source": [
        "# 샘플마다 2개의 확률이 출력되는데(시그모이드 함수), 첫번째 열은 0(음성)에 대한 확률, 두번째 열은 1(양성)에 대한 확률임\n",
        "# 사이킷런의 target값은 알파벳 순으로 정렬해서 사용\n",
        "print(lr.classes_)    # Bream(도미)가 음성, Smelt(빙어)가 양성으로 사용됨\n",
        "# 두번째 샘플만이 양성 클래스인 빙어일 확률이 높아 나머지는 도미로 예측됨\n",
        "# 만약 Bream(도미)을 양성 클래스로 사용하고 싶으면 전처리 단계에서 Bream(도미)인 Target값을 1로 만들어야함"
      ],
      "metadata": {
        "colab": {
          "base_uri": "https://localhost:8080/"
        },
        "id": "dJWkd742OMpe",
        "outputId": "f0b3a96f-dabe-4a43-b189-8c5ca2e49383"
      },
      "execution_count": 83,
      "outputs": [
        {
          "output_type": "stream",
          "name": "stdout",
          "text": [
            "['Bream' 'Smelt']\n"
          ]
        }
      ]
    },
    {
      "cell_type": "code",
      "source": [
        "# LogisticRegression(로지스틱회귀)으로 학습한 계수(중요도) 학습\n",
        "print(lr.coef_, lr.intercept_)"
      ],
      "metadata": {
        "colab": {
          "base_uri": "https://localhost:8080/"
        },
        "id": "j3mlheY9PisY",
        "outputId": "6d854465-dd46-4cb6-c1a9-c5556fc66df3"
      },
      "execution_count": 84,
      "outputs": [
        {
          "output_type": "stream",
          "name": "stdout",
          "text": [
            "[[-0.40451732 -0.57582787 -0.66248158 -1.01329614 -0.73123131]] [-2.16172774]\n"
          ]
        }
      ]
    },
    {
      "cell_type": "code",
      "source": [
        "# coef, intercept 값 : [[-0.40451732 -0.57582787 -0.66248158 -1.01329614 -0.73123131]] [-2.16172774]\n",
        "# 해당 값을 선형방정식에 대입 / z = (a * Weight) + (b * Length) + (c + Diagonal) + (d * Height) + (e * Width) + f\n",
        "# z = (-0.40451732 * Weight) + (-0.57582787 * Length) + (-0.66248158 * Diagonal) + (-1.01329614 * Height) + (-0.73123131 * Width) + (-2.16172774)\n",
        "\n",
        "decisions = lr.decision_function(train_bream_smelt[:5])\n",
        "print(decisions)    # train_bream_smelt의 처음 5개의 z값 출력"
      ],
      "metadata": {
        "colab": {
          "base_uri": "https://localhost:8080/"
        },
        "id": "HoZwz80dP0WW",
        "outputId": "d1b254fc-65e4-4718-95b9-3a3278db3de6"
      },
      "execution_count": 85,
      "outputs": [
        {
          "output_type": "stream",
          "name": "stdout",
          "text": [
            "[-6.02991358  3.57043428 -5.26630496 -4.24382314 -6.06135688]\n"
          ]
        }
      ]
    },
    {
      "cell_type": "code",
      "source": [
        "# z 값을 시그모이드 함수에 통과시키면 확률을 도출해 낼 수 있음\n",
        "# 파이썬의 사이파이(scipy) 라이브러리에도 시그모이드 함수가 존재함 -> expit()\n",
        "from scipy.special import expit\n",
        "print(expit(decisions))    # phi = 1 / (1 + np.exp(-z)) / 0에 가까우면 Bream(도미), 1에 가까우면 Smelt(빙어)"
      ],
      "metadata": {
        "colab": {
          "base_uri": "https://localhost:8080/"
        },
        "id": "3tbYkO29RS2h",
        "outputId": "71dff994-8821-4bea-f2b1-e082ca540338"
      },
      "execution_count": 86,
      "outputs": [
        {
          "output_type": "stream",
          "name": "stdout",
          "text": [
            "[0.00239993 0.97262675 0.00513614 0.01414953 0.00232581]\n"
          ]
        }
      ]
    },
    {
      "cell_type": "code",
      "source": [
        "# 2진분류는 True, False로만 처리되므로 다중분류로 변경하여 진행\n",
        "# 현재 어종이 7가지이므로 로지스틱 회귀로 분류를 학습\n",
        "# LogisticRegression 클래스는 기본적으로 반복적인 알고리즘을 사용함(default : max_iter = 100)\n",
        "# max_iter = 100으로 반복횟수를 100으로 하면 부족하다는 경고문구가 나와 1000으로 높여 적용\n",
        "# LoigsticRegression은 기본적으로 Ridge 회귀와 같이 계수를 제곱하는 규제를 사용(L2 규제)\n",
        "# Ridge 회귀에서는 alpha 매개변수로 규제의 양을 조절(alpha의 값과 규제의 양이 비례)\n",
        "# LogisticRegression에서는 규제를 제어하는 변수가 C로 설정되어있음(C의 값과 규제의 양이 반비례 / C의 Default값 = 1)\n",
        "# 그러므로 LogisticRegression에서 규제를 완화하여 사용하기 위해 C의 값을 20으로 증가시켜 사용\n",
        "\n",
        "lr = LogisticRegression(C = 20, max_iter = 1000)    # 정확도 향상을 위해 max_iter를 1000으로 증가시켜 적용\n",
        "lr.fit(train_scaled, train_target)\n",
        "\n",
        "print(lr.score(train_scaled, train_target))\n",
        "print(lr.score(test_scaled, test_target))\n",
        "# 결과 : 트레이닝값(93.3%) > 테스트값(92.5%) 이므로 과대적합은 아닌듯함"
      ],
      "metadata": {
        "colab": {
          "base_uri": "https://localhost:8080/"
        },
        "id": "tgKqt4eCSLjk",
        "outputId": "2a86a41a-2754-4461-86f2-de6918b90a12"
      },
      "execution_count": 87,
      "outputs": [
        {
          "output_type": "stream",
          "name": "stdout",
          "text": [
            "0.9327731092436975\n",
            "0.925\n"
          ]
        }
      ]
    },
    {
      "cell_type": "code",
      "source": [
        "print(lr.predict(test_scaled[:5]))    # 결과 분석 시 다중분류 방식으로 출력"
      ],
      "metadata": {
        "colab": {
          "base_uri": "https://localhost:8080/"
        },
        "id": "Hc8bP3XbUTmR",
        "outputId": "d9d236dc-9d6d-4871-caaf-75078bea7a3e"
      },
      "execution_count": 88,
      "outputs": [
        {
          "output_type": "stream",
          "name": "stdout",
          "text": [
            "['Perch' 'Smelt' 'Pike' 'Roach' 'Perch']\n"
          ]
        }
      ]
    },
    {
      "cell_type": "code",
      "source": [
        "proba = lr.predict_proba(test_scaled[:5])\n",
        "print(np.round(proba, decimals = 3))\n",
        "# 결과 / Bream, Parkki, Perch, Pike, Roach, Smelt, Whitefish 순 확률표시\n",
        "# [0.    0.014 0.842 0.    0.135 0.007 0.003]\n",
        "# [0.    0.003 0.044 0.    0.007 0.946 0.   ]\n",
        "# [0.    0.    0.034 0.934 0.015 0.016 0.   ]\n",
        "# [0.011 0.034 0.305 0.006 0.567 0.    0.076]\n",
        "# [0.    0.    0.904 0.002 0.089 0.002 0.001]"
      ],
      "metadata": {
        "colab": {
          "base_uri": "https://localhost:8080/"
        },
        "id": "SKSJCWfZUhTR",
        "outputId": "268ebc65-5ac6-42e4-d159-222f8fad4bb3"
      },
      "execution_count": 89,
      "outputs": [
        {
          "output_type": "stream",
          "name": "stdout",
          "text": [
            "[[0.    0.014 0.842 0.    0.135 0.007 0.003]\n",
            " [0.    0.003 0.044 0.    0.007 0.946 0.   ]\n",
            " [0.    0.    0.034 0.934 0.015 0.016 0.   ]\n",
            " [0.011 0.034 0.305 0.006 0.567 0.    0.076]\n",
            " [0.    0.    0.904 0.002 0.089 0.002 0.001]]\n"
          ]
        }
      ]
    },
    {
      "cell_type": "code",
      "source": [
        "print(lr.classes_)    # 어종 7가지가 알파벳 순으로 정렬 및 클래스가 명확하게 구분되어 출력됨"
      ],
      "metadata": {
        "colab": {
          "base_uri": "https://localhost:8080/"
        },
        "id": "gWxLbE5vVAJq",
        "outputId": "60b2f865-7adb-4ff9-f823-65d44ad75ac1"
      },
      "execution_count": 90,
      "outputs": [
        {
          "output_type": "stream",
          "name": "stdout",
          "text": [
            "['Bream' 'Parkki' 'Perch' 'Pike' 'Roach' 'Smelt' 'Whitefish']\n"
          ]
        }
      ]
    },
    {
      "cell_type": "code",
      "source": [
        "# 다중분류일때 선형방정식\n",
        "print(lr.coef_.shape, lr.intercept_.shape)\n",
        "# (7, 5) / 7개의 행과 5개의 특성이 사용됨\n",
        "# (7,) / 7개의 행이 사용됨 -> 2진분류에서 보았던 z를 7개를 계산함\n",
        "# 다중분류는 클래스마다 z값을 하나씩 계산하며, 가장 높은 z값을 출력하는 클래스가 예측클래스임"
      ],
      "metadata": {
        "colab": {
          "base_uri": "https://localhost:8080/"
        },
        "id": "u0LsaCaaVpmD",
        "outputId": "f136b6a2-8956-4492-c984-5f7c90262fb8"
      },
      "execution_count": 91,
      "outputs": [
        {
          "output_type": "stream",
          "name": "stdout",
          "text": [
            "(7, 5) (7,)\n"
          ]
        }
      ]
    },
    {
      "cell_type": "code",
      "source": [
        "# 2진분류에서는 시그모이드 함수를 사용하여 z 값을 0 ~ 1 사이값으로 변환하였으나,\n",
        "# 다중분류에서는 소프트맥스 함수를 사용하여 7의 z 값을 확률로 변환함\n",
        "\n",
        "# 소프트맥스 계산법\n",
        "# e_sum = e^z1 + e^z2 + e^z3 + e^z4 + e^z5 + e^z6 + e^z7 + ..... + e^zi\n",
        "# s1 = (e^z1 / e_sum).....s7 = (e^z7 / e_sum).....si = (e^zi / e_sum) -> s1 ~ s7까지 모두 더하면 분모가 같아져 1이 됨"
      ],
      "metadata": {
        "id": "gAqUk2qtWWY3"
      },
      "execution_count": 92,
      "outputs": []
    },
    {
      "cell_type": "markdown",
      "source": [
        "![image.png](data:image/png;base64,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)"
      ],
      "metadata": {
        "id": "Ck7YSA5RXlvh"
      }
    },
    {
      "cell_type": "code",
      "source": [
        "decision = lr.decision_function(test_scaled[:5])\n",
        "print(\"5개 샘플에 대한 z1 ~ z7의 값\\n\")\n",
        "for idx, z in enumerate(decision):\n",
        "    print(f\"{idx}번째 샘플의 z값\\n{z}\\n\")"
      ],
      "metadata": {
        "colab": {
          "base_uri": "https://localhost:8080/"
        },
        "id": "GS_hrpMxXwQQ",
        "outputId": "a8dc57f0-d993-4d9e-e930-78ede21cf984"
      },
      "execution_count": 93,
      "outputs": [
        {
          "output_type": "stream",
          "name": "stdout",
          "text": [
            "5개 샘플에 대한 z1 ~ z7의 값\n",
            "\n",
            "0번째 샘플의 z값\n",
            "[-6.50722814  1.03902666  5.16819138 -2.75730346  3.33655201  0.34625859\n",
            " -0.62549704]\n",
            "\n",
            "1번째 샘플의 z값\n",
            "[-10.87900747   1.94410609   4.77600607  -2.42306183   2.98748716\n",
            "   7.84171377  -4.24724379]\n",
            "\n",
            "2번째 샘플의 z값\n",
            "[-4.33809959 -6.23690282  3.16746648  6.48091391  2.36412675  2.43431898\n",
            " -3.87182371]\n",
            "\n",
            "3번째 샘플의 z값\n",
            "[-0.69143994  0.44628533  2.64291146 -1.21457286  3.2612452  -5.70143404\n",
            "  1.25700485]\n",
            "\n",
            "4번째 샘플의 z값\n",
            "[-6.40138612 -1.99137623  5.81526372 -0.134644    3.49905134 -0.08753485\n",
            " -0.69937385]\n",
            "\n"
          ]
        }
      ]
    },
    {
      "cell_type": "code",
      "source": [
        "from scipy.special import softmax\n",
        "print(\"소프트맥스 함수로 예측확률 구하기\\n\")\n",
        "class_ = lr.classes_.tolist() + [\"예측 결과\"]\n",
        "prd = lr.predict(test_scaled[:5]).reshape(5, -1)\n",
        "sm = softmax(decision, axis = 1).round(2) * 100\n",
        "con = np.column_stack((sm, prd))\n",
        "print(pd.DataFrame(con, columns = class_))\n"
      ],
      "metadata": {
        "colab": {
          "base_uri": "https://localhost:8080/"
        },
        "id": "8Z3QEIlVYUEC",
        "outputId": "44124ba4-75aa-4c8b-d7ef-cbfbebf8e1af"
      },
      "execution_count": 94,
      "outputs": [
        {
          "output_type": "stream",
          "name": "stdout",
          "text": [
            "소프트맥스 함수로 예측확률 구하기\n",
            "\n",
            "  Bream Parkki Perch  Pike Roach Smelt Whitefish  예측 결과\n",
            "0   0.0    1.0  84.0   0.0  13.0   1.0       0.0  Perch\n",
            "1   0.0    0.0   4.0   0.0   1.0  95.0       0.0  Smelt\n",
            "2   0.0    0.0   3.0  93.0   2.0   2.0       0.0   Pike\n",
            "3   1.0    3.0  31.0   1.0  57.0   0.0       8.0  Roach\n",
            "4   0.0    0.0  90.0   0.0   9.0   0.0       0.0  Perch\n"
          ]
        }
      ]
    }
  ]
}